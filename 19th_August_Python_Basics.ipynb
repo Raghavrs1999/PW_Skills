{
 "cells": [
  {
   "cell_type": "markdown",
   "id": "44f6f886",
   "metadata": {},
   "source": [
    "# TOPIC: Python Basics Variable"
   ]
  },
  {
   "cell_type": "markdown",
   "id": "579174e2",
   "metadata": {},
   "source": [
    "1. Declare two variables, `x` and `y`, and assign them integer values. Swap the\n",
    "values of these variables without using any temporary variable."
   ]
  },
  {
   "cell_type": "code",
   "execution_count": 3,
   "id": "6f69d035",
   "metadata": {},
   "outputs": [
    {
     "name": "stdout",
     "output_type": "stream",
     "text": [
      "a = 1\n",
      "b = 2\n"
     ]
    }
   ],
   "source": [
    "#input\n",
    "a = 1\n",
    "b = 2\n",
    "print(f\"a = {a}\")\n",
    "print(f\"b = {b}\")"
   ]
  },
  {
   "cell_type": "code",
   "execution_count": 4,
   "id": "c907237e",
   "metadata": {},
   "outputs": [],
   "source": [
    "#process\n",
    "a,b = b,a"
   ]
  },
  {
   "cell_type": "code",
   "execution_count": 5,
   "id": "83bdefe5",
   "metadata": {},
   "outputs": [
    {
     "name": "stdout",
     "output_type": "stream",
     "text": [
      "a = 2\n",
      "b = 1\n"
     ]
    }
   ],
   "source": [
    "#output\n",
    "print(f\"a = {a}\")\n",
    "print(f\"b = {b}\")"
   ]
  },
  {
   "cell_type": "markdown",
   "id": "60bd46c2",
   "metadata": {},
   "source": [
    "2. Create a program that calculates the area of a rectangle. Take the length and\n",
    "width as inputs from the user and store them in variables. Calculate and\n",
    "display the area."
   ]
  },
  {
   "cell_type": "code",
   "execution_count": 6,
   "id": "b28f180f",
   "metadata": {},
   "outputs": [
    {
     "name": "stdout",
     "output_type": "stream",
     "text": [
      "Enter length: 5\n",
      "Enter width: 5\n"
     ]
    }
   ],
   "source": [
    "#input\n",
    "l=float(input(\"Enter length: \")) \n",
    "w=float(input(\"Enter width: \"))\n"
   ]
  },
  {
   "cell_type": "code",
   "execution_count": 11,
   "id": "2b67ee13",
   "metadata": {},
   "outputs": [],
   "source": [
    "#process\n",
    "area = l*w"
   ]
  },
  {
   "cell_type": "code",
   "execution_count": 12,
   "id": "10baa05b",
   "metadata": {},
   "outputs": [
    {
     "name": "stdout",
     "output_type": "stream",
     "text": [
      "Area of rectangle of length = 5.0 and width = 5.0 is 25.0\n"
     ]
    }
   ],
   "source": [
    "#output\n",
    "print(f\"Area of rectangle of length = {l} and width = {w} is {area}\")"
   ]
  },
  {
   "cell_type": "markdown",
   "id": "90958f9e",
   "metadata": {},
   "source": [
    "3. Write a Python program that converts temperatures from Celsius to\n",
    "Fahrenheit. Take the temperature in Celsius as input, store it in a variable,\n",
    "convert it to Fahrenheit, and display the result."
   ]
  },
  {
   "cell_type": "code",
   "execution_count": 13,
   "id": "64029cce",
   "metadata": {},
   "outputs": [
    {
     "name": "stdout",
     "output_type": "stream",
     "text": [
      "Enter the temperature in Celsius: 69\n"
     ]
    }
   ],
   "source": [
    "#input\n",
    "temp_in_Celsius = float(input(\"Enter the temperature in Celsius: \"))"
   ]
  },
  {
   "cell_type": "code",
   "execution_count": 15,
   "id": "c921f7a6",
   "metadata": {},
   "outputs": [],
   "source": [
    "#process\n",
    "temp_in_Fahrenheit = (temp_in_Celsius*1.8)+32"
   ]
  },
  {
   "cell_type": "code",
   "execution_count": 16,
   "id": "94e6b2a5",
   "metadata": {},
   "outputs": [
    {
     "name": "stdout",
     "output_type": "stream",
     "text": [
      "The Fahrenheit value of 69.0 digree Celsius is 156.2\n"
     ]
    }
   ],
   "source": [
    "#output\n",
    "print(f\"The Fahrenheit value of {temp_in_Celsius} digree Celsius is {temp_in_Fahrenheit}\")"
   ]
  },
  {
   "cell_type": "markdown",
   "id": "d70474c6",
   "metadata": {},
   "source": [
    "# TOPIC: String Based Questions"
   ]
  },
  {
   "cell_type": "markdown",
   "id": "76ed5e43",
   "metadata": {},
   "source": [
    "1. Write a Python program that takes a string as input and prints the length of\n",
    "the string."
   ]
  },
  {
   "cell_type": "code",
   "execution_count": 18,
   "id": "3bccaee8",
   "metadata": {},
   "outputs": [
    {
     "name": "stdout",
     "output_type": "stream",
     "text": [
      "Enter the string:raghav sharma\n"
     ]
    }
   ],
   "source": [
    "#input\n",
    "s = input(\"Enter the string: \")"
   ]
  },
  {
   "cell_type": "code",
   "execution_count": 19,
   "id": "e07edb03",
   "metadata": {},
   "outputs": [
    {
     "name": "stdout",
     "output_type": "stream",
     "text": [
      "Length of string 'raghav sharma' is 13\n"
     ]
    }
   ],
   "source": [
    "#output\n",
    "print(f\"Length of string '{s}' is {len(s)}\")"
   ]
  },
  {
   "cell_type": "markdown",
   "id": "182b6347",
   "metadata": {},
   "source": [
    "2. Create a program that takes a sentence from the user and counts the number\n",
    "of vowels (a, e, i, o, u) in the string."
   ]
  },
  {
   "cell_type": "code",
   "execution_count": 20,
   "id": "673ba6b3",
   "metadata": {},
   "outputs": [
    {
     "name": "stdout",
     "output_type": "stream",
     "text": [
      "Enter the sentence: My name is Raghav Sharma and i am a software developer\n"
     ]
    }
   ],
   "source": [
    "#input\n",
    "sentence = input(\"Enter the sentence: \")"
   ]
  },
  {
   "cell_type": "code",
   "execution_count": 49,
   "id": "af9abff9",
   "metadata": {},
   "outputs": [
    {
     "name": "stdout",
     "output_type": "stream",
     "text": [
      "There are 18 vowels in the sentence 'My name is Raghav Sharma and i am a software developer'.\n"
     ]
    }
   ],
   "source": [
    "# process and output\n",
    "c=0\n",
    "for i in sentence:\n",
    "    if i in \"aeiouAEIOU\":\n",
    "        c+=1\n",
    "print(f\"There are {c} vowels in the sentence '{sentence}'.\")"
   ]
  },
  {
   "cell_type": "markdown",
   "id": "1fe7617a",
   "metadata": {},
   "source": [
    "3. Given a string, reverse the order of characters using string slicing and print\n",
    "the reversed string."
   ]
  },
  {
   "cell_type": "code",
   "execution_count": 27,
   "id": "bca32dfd",
   "metadata": {},
   "outputs": [
    {
     "name": "stdout",
     "output_type": "stream",
     "text": [
      "Enter the string: raghav\n"
     ]
    }
   ],
   "source": [
    "#input\n",
    "s = input(\"Enter the string: \")"
   ]
  },
  {
   "cell_type": "code",
   "execution_count": 32,
   "id": "e0078a2b",
   "metadata": {},
   "outputs": [],
   "source": [
    "#process\n",
    "rev = s[::-1]"
   ]
  },
  {
   "cell_type": "code",
   "execution_count": 35,
   "id": "dad311f5",
   "metadata": {},
   "outputs": [
    {
     "name": "stdout",
     "output_type": "stream",
     "text": [
      "Reverse of string 'raghav' is 'vahgar'\n"
     ]
    }
   ],
   "source": [
    "#output\n",
    "print(f\"Reverse of string '{s}' is '{rev}'\")"
   ]
  },
  {
   "cell_type": "markdown",
   "id": "09d55168",
   "metadata": {},
   "source": [
    "4. Write a program that takes a string as input and checks if it is a palindrome\n",
    "(reads the same forwards and backwards)."
   ]
  },
  {
   "cell_type": "code",
   "execution_count": 41,
   "id": "a7a3d616",
   "metadata": {},
   "outputs": [
    {
     "name": "stdout",
     "output_type": "stream",
     "text": [
      "Enter the string: 12321\n"
     ]
    }
   ],
   "source": [
    "#input \n",
    "s = input(\"Enter the string: \")"
   ]
  },
  {
   "cell_type": "code",
   "execution_count": 50,
   "id": "16d59706",
   "metadata": {},
   "outputs": [
    {
     "name": "stdout",
     "output_type": "stream",
     "text": [
      "Given string s = 'raghav sharma is my name ' is not palindrome \n"
     ]
    }
   ],
   "source": [
    "#process and output\n",
    "reverse = s[::-1]\n",
    "if s == reverse:\n",
    "    print(f\"Given string s = '{s}' is palindrome \")\n",
    "else:\n",
    "    print(f\"Given string s = '{s}' is not palindrome \")\n"
   ]
  },
  {
   "cell_type": "markdown",
   "id": "0020a38a",
   "metadata": {},
   "source": [
    "5. Create a program that takes a string as input and removes all the spaces from\n",
    "it. Print the modified string without spaces."
   ]
  },
  {
   "cell_type": "code",
   "execution_count": 44,
   "id": "6f44e3ff",
   "metadata": {},
   "outputs": [
    {
     "name": "stdout",
     "output_type": "stream",
     "text": [
      "Enter the string: raghav sharma is my name \n"
     ]
    }
   ],
   "source": [
    "#input \n",
    "s = input(\"Enter the string: \")"
   ]
  },
  {
   "cell_type": "code",
   "execution_count": 47,
   "id": "17ea43a7",
   "metadata": {},
   "outputs": [],
   "source": [
    "#process\n",
    "without_space=\"\"\n",
    "for i in s:\n",
    "    if i == \" \":\n",
    "        continue\n",
    "    else:\n",
    "        without_space  += i "
   ]
  },
  {
   "cell_type": "code",
   "execution_count": 48,
   "id": "8905c265",
   "metadata": {},
   "outputs": [
    {
     "name": "stdout",
     "output_type": "stream",
     "text": [
      "Given string was 'raghav sharma is my name ' and string without space is 'raghavsharmaismyname'\n"
     ]
    }
   ],
   "source": [
    "#output\n",
    "print(f\"Given string was '{s}' and string without space is '{without_space}'\")"
   ]
  },
  {
   "cell_type": "markdown",
   "id": "b06a675e",
   "metadata": {},
   "source": [
    "# Thank you :-)"
   ]
  }
 ],
 "metadata": {
  "kernelspec": {
   "display_name": "Python 3 (ipykernel)",
   "language": "python",
   "name": "python3"
  },
  "language_info": {
   "codemirror_mode": {
    "name": "ipython",
    "version": 3
   },
   "file_extension": ".py",
   "mimetype": "text/x-python",
   "name": "python",
   "nbconvert_exporter": "python",
   "pygments_lexer": "ipython3",
   "version": "3.10.7"
  },
  "varInspector": {
   "cols": {
    "lenName": 16,
    "lenType": 16,
    "lenVar": 40
   },
   "kernels_config": {
    "python": {
     "delete_cmd_postfix": "",
     "delete_cmd_prefix": "del ",
     "library": "var_list.py",
     "varRefreshCmd": "print(var_dic_list())"
    },
    "r": {
     "delete_cmd_postfix": ") ",
     "delete_cmd_prefix": "rm(",
     "library": "var_list.r",
     "varRefreshCmd": "cat(var_dic_list()) "
    }
   },
   "types_to_exclude": [
    "module",
    "function",
    "builtin_function_or_method",
    "instance",
    "_Feature"
   ],
   "window_display": false
  }
 },
 "nbformat": 4,
 "nbformat_minor": 5
}
